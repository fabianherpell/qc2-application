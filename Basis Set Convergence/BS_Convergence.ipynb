{
 "cells": [
  {
   "attachments": {},
   "cell_type": "markdown",
   "metadata": {},
   "source": [
    "## Basis Set Convergence\n",
    "\n",
    "plotting Dimerization-energy vs cardinal number for HF, MP2 and TPSS_D3\n"
   ]
  },
  {
   "cell_type": "code",
   "execution_count": null,
   "metadata": {},
   "outputs": [],
   "source": [
    "# load data: Monomer\n",
    "\n",
    "with open('/Dimerization_energies', 'r') as f:\n",
    "    lines = f.readlines()\n",
    "\n",
    "\n",
    "# load data: Dimer\n",
    "\n",
    "with open('/Dimerization_energies', 'r') as f:\n",
    "    lines = f.readlines()"
   ]
  }
 ],
 "metadata": {
  "language_info": {
   "name": "python"
  },
  "orig_nbformat": 4
 },
 "nbformat": 4,
 "nbformat_minor": 2
}
